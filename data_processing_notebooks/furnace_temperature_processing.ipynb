{
 "cells": [
  {
   "cell_type": "markdown",
   "metadata": {},
   "source": [
    "## Collecting and Processing Temperature Data \n",
    "### Evolution of fire-induced damage in composite buildings\n",
    "Data from figures in: Yang ZN, Dong YL, Xu WJ (2013) Fire tests on two-way concrete slabs in a full-scale multi-storey steel-framed building. Fire Saf J 58:38–48. https://doi.org/10.1016/j.firesaf.2013.01.023"
   ]
  },
  {
   "cell_type": "code",
   "execution_count": 1,
   "metadata": {},
   "outputs": [],
   "source": [
    "import pandas as pd\n",
    "import numpy as np"
   ]
  },
  {
   "cell_type": "markdown",
   "metadata": {},
   "source": [
    "**Extracting furnace temperature from Fig 18**\\\n",
    "Fig 18 (a): Test 1\\\n",
    "Fig 18 (b): Test 2 "
   ]
  },
  {
   "cell_type": "code",
   "execution_count": 2,
   "metadata": {},
   "outputs": [],
   "source": [
    "test2_furnace = pd.read_csv(\"../digitised_image_data/test2_furnace_fig18_b.csv\", header=None, names=[\"time (minutes)\", \"temperature (C)\"])"
   ]
  },
  {
   "cell_type": "markdown",
   "metadata": {},
   "source": [
    "*Ensuring temperature data starts at a reasonably small first value and ends at exactly 900 minutes*"
   ]
  },
  {
   "cell_type": "code",
   "execution_count": 3,
   "metadata": {},
   "outputs": [],
   "source": [
    "initial_temp_furnace = pd.DataFrame([[5.0/60.0, 0]], columns=test2_furnace.columns)\n",
    "final_temp_test2_furnace = pd.DataFrame([[900.0, test2_furnace.iloc[-1][\"temperature (C)\"]]], columns=test2_furnace.columns)\n",
    "test2_furnace = pd.concat([initial_temp_furnace, test2_furnace, final_temp_test2_furnace], ignore_index=True)"
   ]
  },
  {
   "cell_type": "markdown",
   "metadata": {},
   "source": [
    "*Calculating the time in seconds and then saving the temperature data ready for application to structure in the Integrated Simulation Environment*"
   ]
  },
  {
   "cell_type": "code",
   "execution_count": 5,
   "metadata": {},
   "outputs": [],
   "source": [
    "test2_furnace[\"time (seconds)\"] = test2_furnace[\"time (minutes)\"]*60\n",
    "test2_furnace = test2_furnace[[\"time (minutes)\", \"time (seconds)\", \"temperature (C)\"]]\n",
    "test2_furnace.to_csv(\"../processed_temp_files/test2_furnace_temp.dat\", columns=[\"time (seconds)\", \"temperature (C)\"], float_format=\"%.1f\", sep=\" \", header=False, index=False)"
   ]
  }
 ],
 "metadata": {
  "interpreter": {
   "hash": "b3ba2566441a7c06988d0923437866b63cedc61552a5af99d1f4fb67d367b25f"
  },
  "kernelspec": {
   "display_name": "Python 3.8.8 ('base')",
   "language": "python",
   "name": "python3"
  },
  "language_info": {
   "codemirror_mode": {
    "name": "ipython",
    "version": 3
   },
   "file_extension": ".py",
   "mimetype": "text/x-python",
   "name": "python",
   "nbconvert_exporter": "python",
   "pygments_lexer": "ipython3",
   "version": "3.8.8"
  },
  "orig_nbformat": 4
 },
 "nbformat": 4,
 "nbformat_minor": 2
}
