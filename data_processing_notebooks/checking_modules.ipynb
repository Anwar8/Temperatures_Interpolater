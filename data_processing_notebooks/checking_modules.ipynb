{
 "cells": [
  {
   "cell_type": "code",
   "execution_count": 98,
   "metadata": {},
   "outputs": [],
   "source": [
    "import os\n",
    "import sys\n",
    "import numpy as np"
   ]
  },
  {
   "cell_type": "code",
   "execution_count": 99,
   "metadata": {},
   "outputs": [
    {
     "name": "stdout",
     "output_type": "stream",
     "text": [
      "cwd: d:\\OneDrive - The Hong Kong Polytechnic University\\Projects\\Ongoing\\Large Scale Analysis of Structures in Fire\\Papers\\YuliDong\\Getting_temps\\data_processing_notebooks\n"
     ]
    }
   ],
   "source": [
    "print(\"cwd: {}\".format(os.getcwd()))"
   ]
  },
  {
   "cell_type": "code",
   "execution_count": 100,
   "metadata": {},
   "outputs": [],
   "source": [
    "sys.path.append(\"../data_processing_modules\")"
   ]
  },
  {
   "cell_type": "code",
   "execution_count": 101,
   "metadata": {},
   "outputs": [],
   "source": [
    "import time_regularisation as trg"
   ]
  },
  {
   "cell_type": "code",
   "execution_count": 102,
   "metadata": {},
   "outputs": [
    {
     "name": "stdout",
     "output_type": "stream",
     "text": [
      "length of regular_x = 4\n",
      "\n"
     ]
    }
   ],
   "source": [
    "regular_x = np.array([0.0, 0.5, 1.0, 1.5])\n",
    "print(\"length of regular_x = {}\\n\".format(len(regular_x)))\n",
    "first_time_series = np.array([[0.0, 0.25, 0.75, 1.25, 1.5], [0.0, 0.25, 0.75, 1.25, 1.5]]).T\n",
    "\n",
    "list_of_np_arrays = [first_time_series, first_time_series]"
   ]
  },
  {
   "cell_type": "code",
   "execution_count": 103,
   "metadata": {},
   "outputs": [
    {
     "name": "stdout",
     "output_type": "stream",
     "text": [
      "regularised x =\n",
      "[[0.  0.  0. ]\n",
      " [0.5 0.5 0.5]\n",
      " [1.  1.  1. ]\n",
      " [1.5 0.  0. ]]\n"
     ]
    }
   ],
   "source": [
    "print(\"regularised x =\\n{}\".format(trg.regularise_data(regular_x, list_of_np_arrays)))"
   ]
  },
  {
   "cell_type": "code",
   "execution_count": null,
   "metadata": {},
   "outputs": [],
   "source": []
  }
 ],
 "metadata": {
  "interpreter": {
   "hash": "b3ba2566441a7c06988d0923437866b63cedc61552a5af99d1f4fb67d367b25f"
  },
  "kernelspec": {
   "display_name": "Python 3.8.8 ('base')",
   "language": "python",
   "name": "python3"
  },
  "language_info": {
   "codemirror_mode": {
    "name": "ipython",
    "version": 3
   },
   "file_extension": ".py",
   "mimetype": "text/x-python",
   "name": "python",
   "nbconvert_exporter": "python",
   "pygments_lexer": "ipython3",
   "version": "3.8.8"
  },
  "orig_nbformat": 4
 },
 "nbformat": 4,
 "nbformat_minor": 2
}
